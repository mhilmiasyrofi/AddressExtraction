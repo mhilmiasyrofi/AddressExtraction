{
 "cells": [
  {
   "cell_type": "code",
   "execution_count": 36,
   "id": "strange-aberdeen",
   "metadata": {},
   "outputs": [],
   "source": [
    "from collections import Counter \n",
    "\n",
    "import pandas as pd\n",
    "import numpy as np"
   ]
  },
  {
   "cell_type": "code",
   "execution_count": 37,
   "id": "alleged-arbor",
   "metadata": {},
   "outputs": [],
   "source": [
    "df = pd.read_csv(\"train.csv\")"
   ]
  },
  {
   "cell_type": "code",
   "execution_count": 38,
   "id": "addressed-weapon",
   "metadata": {},
   "outputs": [
    {
     "data": {
      "text/html": [
       "<div>\n",
       "<style scoped>\n",
       "    .dataframe tbody tr th:only-of-type {\n",
       "        vertical-align: middle;\n",
       "    }\n",
       "\n",
       "    .dataframe tbody tr th {\n",
       "        vertical-align: top;\n",
       "    }\n",
       "\n",
       "    .dataframe thead th {\n",
       "        text-align: right;\n",
       "    }\n",
       "</style>\n",
       "<table border=\"1\" class=\"dataframe\">\n",
       "  <thead>\n",
       "    <tr style=\"text-align: right;\">\n",
       "      <th></th>\n",
       "      <th>id</th>\n",
       "      <th>raw_address</th>\n",
       "      <th>POI/street</th>\n",
       "    </tr>\n",
       "  </thead>\n",
       "  <tbody>\n",
       "    <tr>\n",
       "      <th>0</th>\n",
       "      <td>0</td>\n",
       "      <td>jl kapuk timur delta sili iii lippo cika 11 a ...</td>\n",
       "      <td>/jl kapuk timur delta sili iii lippo cika</td>\n",
       "    </tr>\n",
       "    <tr>\n",
       "      <th>1</th>\n",
       "      <td>1</td>\n",
       "      <td>aye, jati sampurna</td>\n",
       "      <td>/</td>\n",
       "    </tr>\n",
       "    <tr>\n",
       "      <th>2</th>\n",
       "      <td>2</td>\n",
       "      <td>setu siung 119 rt 5 1 13880 cipayung</td>\n",
       "      <td>/siung</td>\n",
       "    </tr>\n",
       "    <tr>\n",
       "      <th>3</th>\n",
       "      <td>3</td>\n",
       "      <td>toko dita, kertosono</td>\n",
       "      <td>toko dita/</td>\n",
       "    </tr>\n",
       "    <tr>\n",
       "      <th>4</th>\n",
       "      <td>4</td>\n",
       "      <td>jl. orde baru</td>\n",
       "      <td>/jl. orde baru</td>\n",
       "    </tr>\n",
       "    <tr>\n",
       "      <th>...</th>\n",
       "      <td>...</td>\n",
       "      <td>...</td>\n",
       "      <td>...</td>\n",
       "    </tr>\n",
       "    <tr>\n",
       "      <th>299995</th>\n",
       "      <td>299995</td>\n",
       "      <td>jend ahmad yani 331 kertasari ciamis</td>\n",
       "      <td>/jend ahmad yani</td>\n",
       "    </tr>\n",
       "    <tr>\n",
       "      <th>299996</th>\n",
       "      <td>299996</td>\n",
       "      <td>raya cila kko, cilandak timur kel.</td>\n",
       "      <td>/raya cila kko</td>\n",
       "    </tr>\n",
       "    <tr>\n",
       "      <th>299997</th>\n",
       "      <td>299997</td>\n",
       "      <td>tanjung gusta jl. yaya 2 no 17</td>\n",
       "      <td>/</td>\n",
       "    </tr>\n",
       "    <tr>\n",
       "      <th>299998</th>\n",
       "      <td>299998</td>\n",
       "      <td>jalan cipadu jaya taman asri gang bijaksana 3 ...</td>\n",
       "      <td>taman asri/</td>\n",
       "    </tr>\n",
       "    <tr>\n",
       "      <th>299999</th>\n",
       "      <td>299999</td>\n",
       "      <td>jaya maspion permata blok beryl b2  no.58</td>\n",
       "      <td>jaya maspion permata/</td>\n",
       "    </tr>\n",
       "  </tbody>\n",
       "</table>\n",
       "<p>300000 rows × 3 columns</p>\n",
       "</div>"
      ],
      "text/plain": [
       "            id                                        raw_address  \\\n",
       "0            0  jl kapuk timur delta sili iii lippo cika 11 a ...   \n",
       "1            1                                 aye, jati sampurna   \n",
       "2            2               setu siung 119 rt 5 1 13880 cipayung   \n",
       "3            3                               toko dita, kertosono   \n",
       "4            4                                      jl. orde baru   \n",
       "...        ...                                                ...   \n",
       "299995  299995               jend ahmad yani 331 kertasari ciamis   \n",
       "299996  299996                 raya cila kko, cilandak timur kel.   \n",
       "299997  299997                     tanjung gusta jl. yaya 2 no 17   \n",
       "299998  299998  jalan cipadu jaya taman asri gang bijaksana 3 ...   \n",
       "299999  299999          jaya maspion permata blok beryl b2  no.58   \n",
       "\n",
       "                                       POI/street  \n",
       "0       /jl kapuk timur delta sili iii lippo cika  \n",
       "1                                               /  \n",
       "2                                          /siung  \n",
       "3                                      toko dita/  \n",
       "4                                  /jl. orde baru  \n",
       "...                                           ...  \n",
       "299995                           /jend ahmad yani  \n",
       "299996                             /raya cila kko  \n",
       "299997                                          /  \n",
       "299998                                taman asri/  \n",
       "299999                      jaya maspion permata/  \n",
       "\n",
       "[300000 rows x 3 columns]"
      ]
     },
     "execution_count": 38,
     "metadata": {},
     "output_type": "execute_result"
    }
   ],
   "source": [
    "# df = df[:200]\n",
    "df"
   ]
  },
  {
   "cell_type": "code",
   "execution_count": 39,
   "id": "mexican-department",
   "metadata": {},
   "outputs": [
    {
     "data": {
      "text/plain": [
       "31993"
      ]
     },
     "execution_count": 39,
     "metadata": {},
     "output_type": "execute_result"
    }
   ],
   "source": [
    "len(df[df[\"POI/street\"] == \"/\"])"
   ]
  },
  {
   "cell_type": "code",
   "execution_count": 40,
   "id": "anticipated-choice",
   "metadata": {},
   "outputs": [],
   "source": [
    "def getPOI(s) :\n",
    "    return s.split(\"/\")[0]\n",
    "\n",
    "def getStreet(s) :\n",
    "    return s.split(\"/\")[1]\n",
    "\n",
    "def split(s) :\n",
    "    return s.split(\" \")"
   ]
  },
  {
   "cell_type": "code",
   "execution_count": 41,
   "id": "caroline-warehouse",
   "metadata": {},
   "outputs": [],
   "source": [
    "df[\"POI\"] = df[\"POI/street\"].apply(getPOI)\n",
    "df[\"Street\"] = df[\"POI/street\"].apply(getStreet) "
   ]
  },
  {
   "cell_type": "code",
   "execution_count": 43,
   "id": "logical-least",
   "metadata": {},
   "outputs": [],
   "source": [
    "no_poi = df[df[\"POI\"]==\"\"][\"raw_address\"]\n",
    "poi = df[df[\"POI\"]!=\"\"][\"raw_address\"]"
   ]
  },
  {
   "cell_type": "code",
   "execution_count": 44,
   "id": "packed-management",
   "metadata": {},
   "outputs": [],
   "source": [
    "poi.to_csv(\"poi.csv\", index=False)\n",
    "no_poi.to_csv(\"no_poi.csv\", index=False)"
   ]
  },
  {
   "cell_type": "code",
   "execution_count": 45,
   "id": "finnish-wagon",
   "metadata": {},
   "outputs": [],
   "source": [
    "dft = pd.read_csv(\"test.csv\")"
   ]
  },
  {
   "cell_type": "code",
   "execution_count": null,
   "id": "shaped-questionnaire",
   "metadata": {},
   "outputs": [],
   "source": []
  }
 ],
 "metadata": {
  "kernelspec": {
   "display_name": "Python 3",
   "language": "python",
   "name": "python3"
  },
  "language_info": {
   "codemirror_mode": {
    "name": "ipython",
    "version": 3
   },
   "file_extension": ".py",
   "mimetype": "text/x-python",
   "name": "python",
   "nbconvert_exporter": "python",
   "pygments_lexer": "ipython3",
   "version": "3.6.9"
  }
 },
 "nbformat": 4,
 "nbformat_minor": 5
}
